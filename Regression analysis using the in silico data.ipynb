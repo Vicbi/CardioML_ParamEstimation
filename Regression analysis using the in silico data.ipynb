{
 "cells": [
  {
   "cell_type": "code",
   "execution_count": null,
   "metadata": {},
   "outputs": [],
   "source": [
    "import pandas as pd\n",
    "import numpy as np\n",
    "from numpy.core.umath_tests import inner1d\n",
    "from sklearn.model_selection import train_test_split\n",
    "from sklearn.model_selection import KFold\n",
    "import matplotlib.pyplot as plt\n",
    "from Utilities.utils import *\n",
    "from Utilities.plot_functions import *"
   ]
  },
  {
   "cell_type": "markdown",
   "metadata": {},
   "source": [
    "# Select Regression Model & Prediction Variable "
   ]
  },
  {
   "cell_type": "code",
   "execution_count": null,
   "metadata": {},
   "outputs": [],
   "source": [
    "# Select prediction variable, e.g., 'CO','aSBP','Ees'\n",
    "prediction_variable = 'aSBP'  \n",
    "\n",
    "# Select regression method, e.g., 'RF','SVR','RIDGE','GB'\n",
    "regressor = 'RF'       \n",
    "\n",
    "# Enable figure saving\n",
    "save_figure_boolean = False \n",
    "\n",
    "experiment_type = 'insilico'    # Set the type of data being used in the analysis"
   ]
  },
  {
   "cell_type": "markdown",
   "metadata": {},
   "source": [
    "# Load In Silico Data"
   ]
  },
  {
   "cell_type": "code",
   "execution_count": null,
   "metadata": {},
   "outputs": [],
   "source": [
    "dataset = pd.read_csv('Data/insilico_data.csv') # noise is considered\n",
    "dataset.head()\n",
    "\n",
    "# correlation_matrix(dataset)"
   ]
  },
  {
   "cell_type": "markdown",
   "metadata": {},
   "source": [
    "# Regression Analysis"
   ]
  },
  {
   "cell_type": "code",
   "execution_count": null,
   "metadata": {},
   "outputs": [],
   "source": [
    "X,y = select_variable_to_predict(dataset,prediction_variable)\n",
    "# save_input_output_pairs(X,y)\n",
    "\n",
    "# X,y = load_input_output_pairs()\n",
    "\n",
    "# - Perform k-fold cross-validation\n",
    "k = 10\n",
    "kf = KFold(n_splits=k); kf.get_n_splits(X); print(kf); KFold(n_splits=k, random_state=None, shuffle=False)\n",
    "\n",
    "current_fold = 0;\n",
    "y_pred_total = None; y_test_total = None;\n",
    "metrics_array = np.empty((k, 4))\n",
    "    \n",
    "for train_index, test_index in kf.split(X):\n",
    "    X_train, X_test = X[train_index], X[test_index]\n",
    "    y_train, y_test = y[train_index], y[test_index]\n",
    "    \n",
    "    model, y_pred = run_regressor_with_best_hyperparams(X_train, X_test,y_train, y_test,regressor,prediction_variable)\n",
    "    # model, y_pred, hyper_parameters = hyperparameter_tuning(X_train, X_test, y_train, y_test,regressor)\n",
    "    \n",
    "    output_verbose = False\n",
    "    metrics_array = calculate_metrics_for_each_fold(current_fold,y_test,y_pred,metrics_array,output_verbose)\n",
    "    current_fold = current_fold + 1\n",
    "    \n",
    "    y_test_total, y_pred_total = accumulate_predictions(y_test, y_pred, current_fold, y_test_total, y_pred_total)\n",
    "    "
   ]
  },
  {
   "cell_type": "markdown",
   "metadata": {},
   "source": [
    "### Print Results"
   ]
  },
  {
   "cell_type": "code",
   "execution_count": null,
   "metadata": {},
   "outputs": [],
   "source": [
    "calculate_regression_statistics(y_test_total, y_pred_total, metrics_array, regressor)"
   ]
  },
  {
   "cell_type": "code",
   "execution_count": null,
   "metadata": {},
   "outputs": [],
   "source": [
    "calculate_precision_percentages(y_test_total, y_pred_total, prediction_variable)"
   ]
  },
  {
   "cell_type": "markdown",
   "metadata": {},
   "source": [
    "### Plot Results"
   ]
  },
  {
   "cell_type": "code",
   "execution_count": null,
   "metadata": {},
   "outputs": [],
   "source": [
    "plot_data(y_test_total, y_pred_total, experiment_type, prediction_variable, regressor, save_figure_boolean)"
   ]
  },
  {
   "cell_type": "code",
   "execution_count": null,
   "metadata": {},
   "outputs": [],
   "source": []
  }
 ],
 "metadata": {
  "kernelspec": {
   "display_name": "Python 3 (ipykernel)",
   "language": "python",
   "name": "python3"
  },
  "language_info": {
   "codemirror_mode": {
    "name": "ipython",
    "version": 3
   },
   "file_extension": ".py",
   "mimetype": "text/x-python",
   "name": "python",
   "nbconvert_exporter": "python",
   "pygments_lexer": "ipython3",
   "version": "3.7.16"
  }
 },
 "nbformat": 4,
 "nbformat_minor": 4
}
